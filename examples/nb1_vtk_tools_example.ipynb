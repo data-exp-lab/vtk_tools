{
 "cells": [
  {
   "cell_type": "code",
   "execution_count": 1,
   "metadata": {},
   "outputs": [],
   "source": [
    "from vtk_tools.shapefunctions import sf"
   ]
  },
  {
   "cell_type": "code",
   "execution_count": 2,
   "metadata": {},
   "outputs": [
    {
     "data": {
      "text/plain": [
       "{0: 0,\n",
       " 16: 1,\n",
       " 4: 2,\n",
       " 11: 3,\n",
       " 20: 4,\n",
       " 15: 5,\n",
       " 3: 6,\n",
       " 19: 7,\n",
       " 7: 8,\n",
       " 8: 9,\n",
       " 22: 10,\n",
       " 12: 11,\n",
       " 24: 12,\n",
       " 26: 13,\n",
       " 25: 14,\n",
       " 10: 15,\n",
       " 23: 16,\n",
       " 14: 17,\n",
       " 1: 18,\n",
       " 17: 19,\n",
       " 5: 20,\n",
       " 9: 21,\n",
       " 21: 22,\n",
       " 13: 23,\n",
       " 2: 24,\n",
       " 18: 25,\n",
       " 6: 26}"
      ]
     },
     "execution_count": 2,
     "metadata": {},
     "output_type": "execute_result"
    }
   ],
   "source": [
    "b = sf(72,[2,2,2])\n",
    "b.node_order_hash"
   ]
  },
  {
   "cell_type": "code",
   "execution_count": 3,
   "metadata": {},
   "outputs": [
    {
     "data": {
      "text/plain": [
       "{0: 0, 4: 1, 3: 2, 7: 3, 1: 4, 5: 5, 2: 6, 6: 7}"
      ]
     },
     "execution_count": 3,
     "metadata": {},
     "output_type": "execute_result"
    }
   ],
   "source": [
    "b = sf(72,1)\n",
    "b.node_order_hash"
   ]
  },
  {
   "cell_type": "code",
   "execution_count": 4,
   "metadata": {},
   "outputs": [
    {
     "data": {
      "text/plain": [
       "{0: 0,\n",
       " 12: 1,\n",
       " 4: 2,\n",
       " 3: 3,\n",
       " 15: 4,\n",
       " 7: 5,\n",
       " 8: 6,\n",
       " 16: 7,\n",
       " 10: 8,\n",
       " 9: 9,\n",
       " 17: 10,\n",
       " 11: 11,\n",
       " 1: 12,\n",
       " 13: 13,\n",
       " 5: 14,\n",
       " 2: 15,\n",
       " 14: 16,\n",
       " 6: 17}"
      ]
     },
     "execution_count": 4,
     "metadata": {},
     "output_type": "execute_result"
    }
   ],
   "source": [
    "b = sf(72,[2,1,2])\n",
    "b.node_order_hash"
   ]
  },
  {
   "cell_type": "code",
   "execution_count": null,
   "metadata": {},
   "outputs": [],
   "source": []
  }
 ],
 "metadata": {
  "kernelspec": {
   "display_name": "Python 3",
   "language": "python",
   "name": "python3"
  },
  "language_info": {
   "codemirror_mode": {
    "name": "ipython",
    "version": 3
   },
   "file_extension": ".py",
   "mimetype": "text/x-python",
   "name": "python",
   "nbconvert_exporter": "python",
   "pygments_lexer": "ipython3",
   "version": "3.7.7"
  }
 },
 "nbformat": 4,
 "nbformat_minor": 4
}
